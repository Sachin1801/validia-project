{
 "cells": [
  {
   "cell_type": "raw",
   "metadata": {
    "vscode": {
     "languageId": "raw"
    }
   },
   "source": [
    "# Validia Project - Initial Setup\n",
    "\n",
    "This notebook documents the initial setup and structure of the Validia facial profile API project.\n",
    "\n",
    "## Project Overview\n",
    "\n",
    "The Validia project is a FastAPI application that:\n",
    "- Accepts image uploads\n",
    "- Analyzes facial features\n",
    "- Generates facial profiles\n",
    "- Provides APIs for profile creation and validation\n"
   ]
  },
  {
   "cell_type": "raw",
   "metadata": {
    "vscode": {
     "languageId": "raw"
    }
   },
   "source": [
    "## Directory Structure\n",
    "\n",
    "The project follows a clean, modular structure:\n",
    "\n",
    "```\n",
    "validia-project/\n",
    "├── app/\n",
    "│   ├── __init__.py\n",
    "│   ├── main.py                 # FastAPI app entry point\n",
    "│   ├── api/\n",
    "│   │   ├── __init__.py\n",
    "│   │   └── v1/\n",
    "│   │       ├── __init__.py\n",
    "│   │       └── endpoints.py    # API endpoints\n",
    "│   ├── core/\n",
    "│   │   ├── __init__.py\n",
    "│   │   └── config.py          # Configuration settings\n",
    "│   ├── models/\n",
    "│   │   ├── __init__.py\n",
    "│   │   └── profile.py         # Pydantic models\n",
    "│   └── tests/\n",
    "│       ├── __init__.py\n",
    "│       └── test_api.py        # Unit tests\n",
    "├── notebooks/\n",
    "│   └── commit1_setup.ipynb    # This notebook\n",
    "├── docs/\n",
    "│   └── initial_setup.md       # Setup documentation\n",
    "├── requirements.txt           # Python dependencies\n",
    "├── README.md                 # Project README\n",
    "└── .gitignore               # Git ignore rules\n",
    "```\n"
   ]
  },
  {
   "cell_type": "code",
   "execution_count": 1,
   "metadata": {},
   "outputs": [
    {
     "name": "stdout",
     "output_type": "stream",
     "text": [
      "Project Directory Structure:\n",
      "validia-project/\n",
      "├── Implementation Ideas for Validia Project Bonus Features.docx\n",
      "├── README.md\n",
      "├── app\n",
      "│   ├── __init__.py\n",
      "│   ├── api\n",
      "│   │   ├── __init__.py\n",
      "│   │   └── v1\n",
      "│   ├── core\n",
      "│   │   ├── __init__.py\n",
      "│   │   └── config.py\n",
      "│   ├── main.py\n",
      "│   ├── models\n",
      "│   │   ├── __init__.py\n",
      "│   │   └── profile.py\n",
      "│   └── tests\n",
      "│       ├── __init__.py\n",
      "│       └── test_api.py\n",
      "├── docs\n",
      "│   └── initial_setup.md\n",
      "├── notebooks\n",
      "│   └── commit1_setup.ipynb\n",
      "└── requirements.txt\n"
     ]
    }
   ],
   "source": [
    "# Let's verify our directory structure\n",
    "import os\n",
    "import subprocess\n",
    "\n",
    "def show_tree(path=\".\", prefix=\"\", max_depth=3, current_depth=0):\n",
    "    \"\"\"Display directory tree structure.\"\"\"\n",
    "    if current_depth >= max_depth:\n",
    "        return\n",
    "    \n",
    "    items = []\n",
    "    try:\n",
    "        for item in sorted(os.listdir(path)):\n",
    "            if not item.startswith('.'):\n",
    "                items.append(item)\n",
    "    except PermissionError:\n",
    "        return\n",
    "    \n",
    "    for i, item in enumerate(items):\n",
    "        item_path = os.path.join(path, item)\n",
    "        is_last = i == len(items) - 1\n",
    "        \n",
    "        current_prefix = \"└── \" if is_last else \"├── \"\n",
    "        print(f\"{prefix}{current_prefix}{item}\")\n",
    "        \n",
    "        if os.path.isdir(item_path) and current_depth < max_depth - 1:\n",
    "            extension = \"    \" if is_last else \"│   \"\n",
    "            show_tree(item_path, prefix + extension, max_depth, current_depth + 1)\n",
    "\n",
    "print(\"Project Directory Structure:\")\n",
    "print(\"validia-project/\")\n",
    "show_tree(\"../\", \"\")  # Go up one level to show the full project\n"
   ]
  },
  {
   "cell_type": "raw",
   "metadata": {
    "vscode": {
     "languageId": "raw"
    }
   },
   "source": [
    "## Setup Commands\n",
    "\n",
    "Here are the essential commands to get the project running:\n"
   ]
  },
  {
   "cell_type": "code",
   "execution_count": 2,
   "metadata": {},
   "outputs": [
    {
     "name": "stdout",
     "output_type": "stream",
     "text": [
      "Current Python executable: /Users/sachinadlakha/anaconda3/bin/python\n",
      "Virtual environment active: False\n",
      "\n",
      "requirements.txt contents:\n",
      "fastapi\n",
      "pillow\n",
      "\n"
     ]
    }
   ],
   "source": [
    "# Check if virtual environment exists\n",
    "import sys\n",
    "import os\n",
    "\n",
    "print(\"Current Python executable:\", sys.executable)\n",
    "print(\"Virtual environment active:\", hasattr(sys, 'real_prefix') or (hasattr(sys, 'base_prefix') and sys.base_prefix != sys.prefix))\n",
    "\n",
    "# Check requirements.txt\n",
    "if os.path.exists(\"../requirements.txt\"):\n",
    "    print(\"\\nrequirements.txt contents:\")\n",
    "    with open(\"../requirements.txt\", \"r\") as f:\n",
    "        print(f.read())\n",
    "else:\n",
    "    print(\"requirements.txt not found!\")\n"
   ]
  },
  {
   "cell_type": "raw",
   "metadata": {
    "vscode": {
     "languageId": "raw"
    }
   },
   "source": [
    "## Development Workflow\n",
    "\n",
    "### 1. Environment Setup\n",
    "```bash\n",
    "# Create virtual environment\n",
    "python -m venv .venv\n",
    "\n",
    "# Activate virtual environment\n",
    "source .venv/bin/activate  # On Windows: .venv\\Scripts\\activate\n",
    "\n",
    "# Install dependencies\n",
    "pip install -r requirements.txt\n",
    "```\n",
    "\n",
    "### 2. Running the Application\n",
    "```bash\n",
    "# Start the FastAPI server\n",
    "uvicorn app.main:app --reload\n",
    "\n",
    "# The API will be available at:\n",
    "# - Main API: http://127.0.0.1:8000\n",
    "# - Interactive docs: http://127.0.0.1:8000/docs\n",
    "# - ReDoc documentation: http://127.0.0.1:8000/redoc\n",
    "```\n",
    "\n",
    "### 3. Running Tests\n",
    "```bash\n",
    "# Run all tests\n",
    "pytest\n",
    "\n",
    "# Run tests with verbose output\n",
    "pytest -v\n",
    "\n",
    "# Run specific test file\n",
    "pytest app/tests/test_api.py\n",
    "```\n"
   ]
  },
  {
   "cell_type": "code",
   "execution_count": 3,
   "metadata": {},
   "outputs": [
    {
     "name": "stdout",
     "output_type": "stream",
     "text": [
      "❌ Import error: `BaseSettings` has been moved to the `pydantic-settings` package. See https://docs.pydantic.dev/2.8/migration/#basesettings-has-moved-to-pydantic-settings for more details.\n",
      "\n",
      "For further information visit https://errors.pydantic.dev/2.8/u/import-error\n",
      "Make sure you're running this from the notebooks directory and the app structure is correct\n"
     ]
    }
   ],
   "source": [
    "# Let's check if we can import the main components of our app\n",
    "try:\n",
    "    # Change to parent directory to import app modules\n",
    "    import sys\n",
    "    sys.path.append('..')\n",
    "    \n",
    "    from app.main import app\n",
    "    from app.models.profile import Profile\n",
    "    from app.core.config import settings\n",
    "    \n",
    "    print(\"✅ Successfully imported main app components!\")\n",
    "    print(f\"App title: {app.title}\")\n",
    "    print(f\"Settings app name: {settings.app_name}\")\n",
    "    print(f\"API v1 prefix: {settings.api_v1_prefix}\")\n",
    "    \n",
    "    # Test Profile model\n",
    "    test_profile = Profile(description=\"Test facial profile\")\n",
    "    print(f\"✅ Profile model works: {test_profile.description}\")\n",
    "    \n",
    "except ImportError as e:\n",
    "    print(f\"❌ Import error: {e}\")\n",
    "    print(\"Make sure you're running this from the notebooks directory and the app structure is correct\")\n",
    "except Exception as e:\n",
    "    print(f\"❌ Unexpected error: {e}\")\n"
   ]
  },
  {
   "cell_type": "raw",
   "metadata": {
    "vscode": {
     "languageId": "raw"
    }
   },
   "source": [
    "## Next Steps\n",
    "\n",
    "This initial setup provides:\n",
    "\n",
    "1. **✅ Clean project structure** with proper Python packaging\n",
    "2. **✅ FastAPI application** with versioned API routing\n",
    "3. **✅ Configuration management** using Pydantic settings\n",
    "4. **✅ Basic testing framework** with pytest\n",
    "5. **✅ Documentation structure** for project notes\n",
    "\n",
    "### Upcoming Development Tasks:\n",
    "\n",
    "1. **Image Upload Endpoint** - Implement file upload handling\n",
    "2. **Facial Analysis Logic** - Add computer vision processing\n",
    "3. **Profile Generation** - Create meaningful facial feature extraction\n",
    "4. **Database Integration** - Store and retrieve profiles\n",
    "5. **Authentication** - Secure API endpoints\n",
    "6. **Additional Endpoints** - Profile comparison and validation APIs\n",
    "\n",
    "The foundation is ready for building the core facial analysis functionality!\n"
   ]
  }
 ],
 "metadata": {
  "kernelspec": {
   "display_name": "base",
   "language": "python",
   "name": "python3"
  },
  "language_info": {
   "codemirror_mode": {
    "name": "ipython",
    "version": 3
   },
   "file_extension": ".py",
   "mimetype": "text/x-python",
   "name": "python",
   "nbconvert_exporter": "python",
   "pygments_lexer": "ipython3",
   "version": "3.11.5"
  }
 },
 "nbformat": 4,
 "nbformat_minor": 2
}
