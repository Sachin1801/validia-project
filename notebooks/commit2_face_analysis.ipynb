{
 "cells": [
  {
   "cell_type": "raw",
   "metadata": {
    "vscode": {
     "languageId": "raw"
    }
   },
   "source": [
    "# Validia Project - Commit 2: Facial Analysis\n",
    "\n",
    "This notebook demonstrates the facial analysis functionality added in commit 2, which includes:\n",
    "\n",
    "- **OpenCV** for image processing\n",
    "- **dlib** for facial landmark detection\n",
    "- **FastAPI endpoint** for profile creation\n",
    "- **Comprehensive testing** of the face analysis pipeline\n",
    "\n",
    "## Features Added\n",
    "\n",
    "1. `app/utils/face_analyzer.py` - Core facial analysis logic\n",
    "2. Updated `app/models/profile.py` - Enhanced profile model with landmarks\n",
    "3. New `/v1/create-profile` endpoint\n",
    "4. Unit tests for error handling and edge cases\n"
   ]
  },
  {
   "cell_type": "code",
   "execution_count": null,
   "metadata": {},
   "outputs": [],
   "source": [
    "# Import necessary libraries\n",
    "import sys\n",
    "import os\n",
    "import requests\n",
    "import json\n",
    "from pathlib import Path\n",
    "\n",
    "# Add parent directory to path for imports\n",
    "sys.path.append('..')\n",
    "\n",
    "# Check if we're in the correct environment\n",
    "print(\"Current working directory:\", os.getcwd())\n",
    "print(\"Python executable:\", sys.executable)\n",
    "print(\"Virtual environment active:\", hasattr(sys, 'real_prefix') or (hasattr(sys, 'base_prefix') and sys.base_prefix != sys.prefix))\n"
   ]
  },
  {
   "cell_type": "raw",
   "metadata": {
    "vscode": {
     "languageId": "raw"
    }
   },
   "source": [
    "## 1. Testing Face Analyzer Module\n",
    "\n",
    "Let's first test our face analyzer module directly to understand how it works.\n"
   ]
  },
  {
   "cell_type": "code",
   "execution_count": null,
   "metadata": {},
   "outputs": [],
   "source": [
    "# Test importing our face analyzer\n",
    "try:\n",
    "    from app.utils.face_analyzer import analyze_face, MODEL_PATH\n",
    "    from app.models.profile import Profile\n",
    "    print(\"✅ Successfully imported face analyzer components!\")\n",
    "    print(f\"Model path expected at: {MODEL_PATH}\")\n",
    "    \n",
    "    # Check if model file exists\n",
    "    if os.path.exists(MODEL_PATH):\n",
    "        print(\"✅ dlib model file found!\")\n",
    "    else:\n",
    "        print(\"❌ dlib model file missing!\")\n",
    "        print(\"Download it with:\")\n",
    "        print(\"mkdir -p models\")\n",
    "        print(\"wget https://github.com/davisking/dlib-models/raw/master/shape_predictor_68_face_landmarks.dat -P models/\")\n",
    "        \n",
    "except ImportError as e:\n",
    "    print(f\"❌ Import error: {e}\")\n",
    "except Exception as e:\n",
    "    print(f\"❌ Unexpected error: {e}\")\n"
   ]
  },
  {
   "cell_type": "code",
   "execution_count": null,
   "metadata": {},
   "outputs": [],
   "source": [
    "# Test face analyzer with invalid input (should raise ValueError)\n",
    "try:\n",
    "    result = analyze_face(b\"not an image\")\n",
    "    print(\"❌ Should have raised ValueError\")\n",
    "except ValueError as e:\n",
    "    print(f\"✅ Correctly handled invalid input: {e}\")\n",
    "except Exception as e:\n",
    "    print(f\"❌ Unexpected error: {e}\")\n",
    "\n",
    "# Test with minimal valid image (1x1 black pixel PNG)\n",
    "import base64\n",
    "minimal_png = base64.b64decode(\n",
    "    b\"iVBORw0KGgoAAAANSUhEUgAAAAEAAAABCAQAAAC1HAwCAAAAC0lEQVR4nGNgYAAAAAMAASsJTYQAAAAASUVORK5CYII=\"\n",
    ")\n",
    "\n",
    "try:\n",
    "    result = analyze_face(minimal_png)\n",
    "    print(\"❌ Should have raised ValueError (no face in 1x1 image)\")\n",
    "except ValueError as e:\n",
    "    print(f\"✅ Correctly detected no face in minimal image: {e}\")\n",
    "except RuntimeError as e:\n",
    "    print(f\"⚠️  Model file issue (expected if not downloaded): {e}\")\n",
    "except Exception as e:\n",
    "    print(f\"❌ Unexpected error: {e}\")\n"
   ]
  },
  {
   "cell_type": "raw",
   "metadata": {
    "vscode": {
     "languageId": "raw"
    }
   },
   "source": [
    "## 2. Testing the FastAPI Endpoint\n",
    "\n",
    "Now let's test the `/v1/create-profile` endpoint. First, we need to make sure the server is running.\n",
    "\n",
    "**Note**: Before running this section, start the server in a separate terminal:\n",
    "```bash\n",
    "uvicorn app.main:app --reload\n",
    "```\n"
   ]
  },
  {
   "cell_type": "code",
   "execution_count": null,
   "metadata": {},
   "outputs": [],
   "source": [
    "# Test server connectivity\n",
    "API_BASE = \"http://127.0.0.1:8000\"\n",
    "\n",
    "try:\n",
    "    # Test basic connectivity\n",
    "    response = requests.get(f\"{API_BASE}/\")\n",
    "    if response.status_code == 200:\n",
    "        print(\"✅ Server is running!\")\n",
    "        print(f\"Response: {response.json()}\")\n",
    "    else:\n",
    "        print(f\"❌ Server responded with status {response.status_code}\")\n",
    "        \n",
    "    # Test ping endpoint\n",
    "    response = requests.get(f\"{API_BASE}/v1/ping\")\n",
    "    if response.status_code == 200:\n",
    "        print(\"✅ V1 API is accessible!\")\n",
    "        print(f\"Ping response: {response.json()}\")\n",
    "    else:\n",
    "        print(f\"❌ V1 API responded with status {response.status_code}\")\n",
    "        \n",
    "except requests.exceptions.ConnectionError:\n",
    "    print(\"❌ Cannot connect to server. Make sure to run:\")\n",
    "    print(\"uvicorn app.main:app --reload\")\n",
    "except Exception as e:\n",
    "    print(f\"❌ Unexpected error: {e}\")\n"
   ]
  },
  {
   "cell_type": "code",
   "execution_count": null,
   "metadata": {},
   "outputs": [],
   "source": [
    "# Test create-profile endpoint with invalid data\n",
    "try:\n",
    "    # Test with invalid file data\n",
    "    files = {'file': ('test.txt', b'not an image', 'text/plain')}\n",
    "    response = requests.post(f\"{API_BASE}/v1/create-profile\", files=files)\n",
    "    \n",
    "    print(f\"Status code: {response.status_code}\")\n",
    "    print(f\"Response: {response.json()}\")\n",
    "    \n",
    "    if response.status_code == 400:\n",
    "        print(\"✅ Correctly rejected invalid image data\")\n",
    "    elif response.status_code == 500:\n",
    "        print(\"⚠️  Server error (likely missing dlib model file)\")\n",
    "    else:\n",
    "        print(f\"❌ Unexpected status code: {response.status_code}\")\n",
    "        \n",
    "except requests.exceptions.ConnectionError:\n",
    "    print(\"❌ Server not running\")\n",
    "except Exception as e:\n",
    "    print(f\"❌ Error testing endpoint: {e}\")\n"
   ]
  },
  {
   "cell_type": "raw",
   "metadata": {
    "vscode": {
     "languageId": "raw"
    }
   },
   "source": [
    "## 3. Testing with a Real Face Image\n",
    "\n",
    "If you have the dlib model file and a face image, you can test the full pipeline:\n"
   ]
  },
  {
   "cell_type": "code",
   "execution_count": null,
   "metadata": {},
   "outputs": [],
   "source": [
    "# Test with a real face image (if available)\n",
    "def test_with_face_image(image_path):\n",
    "    \"\"\"Test the create-profile endpoint with a real face image.\"\"\"\n",
    "    if not os.path.exists(image_path):\n",
    "        print(f\"❌ Image file not found: {image_path}\")\n",
    "        return\n",
    "    \n",
    "    try:\n",
    "        with open(image_path, 'rb') as f:\n",
    "            files = {'file': (os.path.basename(image_path), f, 'image/jpeg')}\n",
    "            response = requests.post(f\"{API_BASE}/v1/create-profile\", files=files)\n",
    "        \n",
    "        print(f\"Status code: {response.status_code}\")\n",
    "        \n",
    "        if response.status_code == 200:\n",
    "            result = response.json()\n",
    "            print(\"✅ Successfully created facial profile!\")\n",
    "            print(f\"Description: {result.get('description', 'N/A')}\")\n",
    "            print(f\"Eye distance: {result.get('eye_distance', 'N/A'):.2f}px\")\n",
    "            print(f\"Yaw: {result.get('yaw', 'N/A'):.2f}\")\n",
    "            print(f\"Number of landmarks: {len(result.get('landmarks', []))}\")\n",
    "            \n",
    "            # Show first few landmarks\n",
    "            landmarks = result.get('landmarks', [])\n",
    "            if landmarks:\n",
    "                print(f\"First 5 landmarks: {landmarks[:5]}\")\n",
    "                \n",
    "        elif response.status_code == 400:\n",
    "            print(f\"❌ Bad request: {response.json()}\")\n",
    "        elif response.status_code == 500:\n",
    "            print(f\"⚠️  Server error: {response.json()}\")\n",
    "        else:\n",
    "            print(f\"❌ Unexpected response: {response.json()}\")\n",
    "            \n",
    "    except Exception as e:\n",
    "        print(f\"❌ Error: {e}\")\n",
    "\n",
    "# Example usage (uncomment and provide a real image path)\n",
    "# test_with_face_image(\"path/to/your/face_image.jpg\")\n",
    "\n",
    "print(\"To test with a real image:\")\n",
    "print(\"1. Download the dlib model file\")\n",
    "print(\"2. Place a face image in the project directory\")\n",
    "print(\"3. Uncomment the test_with_face_image call above\")\n"
   ]
  },
  {
   "cell_type": "raw",
   "metadata": {
    "vscode": {
     "languageId": "raw"
    }
   },
   "source": [
    "## 4. Running Unit Tests\n",
    "\n",
    "Let's verify that our unit tests pass:\n"
   ]
  },
  {
   "cell_type": "code",
   "execution_count": null,
   "metadata": {},
   "outputs": [],
   "source": [
    "# Run tests programmatically\n",
    "import subprocess\n",
    "\n",
    "try:\n",
    "    # Run pytest with verbose output\n",
    "    result = subprocess.run(\n",
    "        [\"python\", \"-m\", \"pytest\", \"../app/tests/\", \"-v\"], \n",
    "        capture_output=True, \n",
    "        text=True,\n",
    "        cwd=\"..\"\n",
    "    )\n",
    "    \n",
    "    print(\"STDOUT:\")\n",
    "    print(result.stdout)\n",
    "    \n",
    "    if result.stderr:\n",
    "        print(\"STDERR:\")\n",
    "        print(result.stderr)\n",
    "    \n",
    "    print(f\"Return code: {result.returncode}\")\n",
    "    \n",
    "    if result.returncode == 0:\n",
    "        print(\"✅ All tests passed!\")\n",
    "    else:\n",
    "        print(\"❌ Some tests failed\")\n",
    "        \n",
    "except Exception as e:\n",
    "    print(f\"❌ Error running tests: {e}\")\n",
    "    print(\"Try running manually: pytest -v\")\n"
   ]
  },
  {
   "cell_type": "raw",
   "metadata": {
    "vscode": {
     "languageId": "raw"
    }
   },
   "source": [
    "## 5. Next Steps and Summary\n",
    "\n",
    "### What We've Accomplished in Commit 2:\n",
    "\n",
    "✅ **Face Detection & Landmark Extraction**: Using dlib's 68-point facial landmark detector  \n",
    "✅ **Robust Error Handling**: Proper validation for invalid images and missing model files  \n",
    "✅ **RESTful API Endpoint**: `/v1/create-profile` that accepts image uploads  \n",
    "✅ **Structured Data Model**: Enhanced Profile model with landmarks, metrics, and description  \n",
    "✅ **Comprehensive Testing**: Unit tests covering edge cases and error conditions  \n",
    "✅ **Documentation**: Clear setup instructions and troubleshooting guide  \n",
    "\n",
    "### Current Limitations:\n",
    "\n",
    "- **Head Pose Estimation**: Yaw is currently a placeholder (0.0)\n",
    "- **Single Face Only**: Only processes the first detected face\n",
    "- **Basic Metrics**: Only eye distance is calculated\n",
    "- **No Persistence**: Profiles are not stored anywhere\n",
    "\n",
    "### Upcoming Features (Future Commits):\n",
    "\n",
    "1. **Database Integration**: Store and retrieve facial profiles\n",
    "2. **Profile Comparison**: API to compare two profiles for similarity\n",
    "3. **Enhanced Metrics**: More sophisticated facial measurements\n",
    "4. **Authentication**: Secure API endpoints\n",
    "5. **Real-time Processing**: Optimize for faster analysis\n",
    "\n",
    "### Setup Reminder:\n",
    "\n",
    "To use the facial analysis features:\n",
    "\n",
    "```bash\n",
    "# Install dependencies\n",
    "pip install -r requirements.txt\n",
    "\n",
    "# Download dlib model (one-time setup)\n",
    "mkdir -p models\n",
    "wget https://github.com/davisking/dlib-models/raw/master/shape_predictor_68_face_landmarks.dat -P models/\n",
    "\n",
    "# Run the server\n",
    "uvicorn app.main:app --reload\n",
    "\n",
    "# Test the API\n",
    "curl -X POST -F \"file=@face.jpg\" http://127.0.0.1:8000/v1/create-profile\n",
    "```\n",
    "\n",
    "The foundation is now ready for building more advanced facial analysis and comparison features!\n"
   ]
  }
 ],
 "metadata": {
  "language_info": {
   "name": "python"
  }
 },
 "nbformat": 4,
 "nbformat_minor": 2
}
